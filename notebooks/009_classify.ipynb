{
 "cells": [
  {
   "cell_type": "code",
   "execution_count": 1,
   "id": "f6a1870e",
   "metadata": {},
   "outputs": [],
   "source": [
    "import pandas as pd\n",
    "\n",
    "from sklearn.preprocessing import StandardScaler\n",
    "from sklearn.preprocessing import MinMaxScaler\n",
    "from sklearn.preprocessing import RobustScaler\n",
    "import matplotlib.pyplot as plt"
   ]
  },
  {
   "cell_type": "code",
   "execution_count": 2,
   "id": "dae799cd",
   "metadata": {},
   "outputs": [
    {
     "data": {
      "text/html": [
       "<div>\n",
       "<style scoped>\n",
       "    .dataframe tbody tr th:only-of-type {\n",
       "        vertical-align: middle;\n",
       "    }\n",
       "\n",
       "    .dataframe tbody tr th {\n",
       "        vertical-align: top;\n",
       "    }\n",
       "\n",
       "    .dataframe thead th {\n",
       "        text-align: right;\n",
       "    }\n",
       "</style>\n",
       "<table border=\"1\" class=\"dataframe\">\n",
       "  <thead>\n",
       "    <tr style=\"text-align: right;\">\n",
       "      <th></th>\n",
       "      <th>carat</th>\n",
       "      <th>cut</th>\n",
       "      <th>color</th>\n",
       "      <th>clarity</th>\n",
       "      <th>depth</th>\n",
       "      <th>table</th>\n",
       "      <th>x</th>\n",
       "      <th>y</th>\n",
       "      <th>z</th>\n",
       "      <th>city</th>\n",
       "      <th>price</th>\n",
       "    </tr>\n",
       "  </thead>\n",
       "  <tbody>\n",
       "    <tr>\n",
       "      <th>0</th>\n",
       "      <td>1.21</td>\n",
       "      <td>Premium</td>\n",
       "      <td>J</td>\n",
       "      <td>VS2</td>\n",
       "      <td>62.4</td>\n",
       "      <td>58.0</td>\n",
       "      <td>6.83</td>\n",
       "      <td>6.79</td>\n",
       "      <td>4.25</td>\n",
       "      <td>Dubai</td>\n",
       "      <td>4268</td>\n",
       "    </tr>\n",
       "    <tr>\n",
       "      <th>1</th>\n",
       "      <td>0.32</td>\n",
       "      <td>Very Good</td>\n",
       "      <td>H</td>\n",
       "      <td>VS2</td>\n",
       "      <td>63.0</td>\n",
       "      <td>57.0</td>\n",
       "      <td>4.35</td>\n",
       "      <td>4.38</td>\n",
       "      <td>2.75</td>\n",
       "      <td>Kimberly</td>\n",
       "      <td>505</td>\n",
       "    </tr>\n",
       "    <tr>\n",
       "      <th>2</th>\n",
       "      <td>0.71</td>\n",
       "      <td>Fair</td>\n",
       "      <td>G</td>\n",
       "      <td>VS1</td>\n",
       "      <td>65.5</td>\n",
       "      <td>55.0</td>\n",
       "      <td>5.62</td>\n",
       "      <td>5.53</td>\n",
       "      <td>3.65</td>\n",
       "      <td>Las Vegas</td>\n",
       "      <td>2686</td>\n",
       "    </tr>\n",
       "    <tr>\n",
       "      <th>3</th>\n",
       "      <td>0.41</td>\n",
       "      <td>Good</td>\n",
       "      <td>D</td>\n",
       "      <td>SI1</td>\n",
       "      <td>63.8</td>\n",
       "      <td>56.0</td>\n",
       "      <td>4.68</td>\n",
       "      <td>4.72</td>\n",
       "      <td>3.00</td>\n",
       "      <td>Kimberly</td>\n",
       "      <td>738</td>\n",
       "    </tr>\n",
       "    <tr>\n",
       "      <th>4</th>\n",
       "      <td>1.02</td>\n",
       "      <td>Ideal</td>\n",
       "      <td>G</td>\n",
       "      <td>SI1</td>\n",
       "      <td>60.5</td>\n",
       "      <td>59.0</td>\n",
       "      <td>6.55</td>\n",
       "      <td>6.51</td>\n",
       "      <td>3.95</td>\n",
       "      <td>Dubai</td>\n",
       "      <td>4882</td>\n",
       "    </tr>\n",
       "  </tbody>\n",
       "</table>\n",
       "</div>"
      ],
      "text/plain": [
       "   carat        cut color clarity  depth  table     x     y     z       city  \\\n",
       "0   1.21    Premium     J     VS2   62.4   58.0  6.83  6.79  4.25      Dubai   \n",
       "1   0.32  Very Good     H     VS2   63.0   57.0  4.35  4.38  2.75   Kimberly   \n",
       "2   0.71       Fair     G     VS1   65.5   55.0  5.62  5.53  3.65  Las Vegas   \n",
       "3   0.41       Good     D     SI1   63.8   56.0  4.68  4.72  3.00   Kimberly   \n",
       "4   1.02      Ideal     G     SI1   60.5   59.0  6.55  6.51  3.95      Dubai   \n",
       "\n",
       "   price  \n",
       "0   4268  \n",
       "1    505  \n",
       "2   2686  \n",
       "3    738  \n",
       "4   4882  "
      ]
     },
     "execution_count": 2,
     "metadata": {},
     "output_type": "execute_result"
    }
   ],
   "source": [
    "df = pd.read_csv('../data/diamonds_train.csv')\n",
    "df.drop(columns=['Unnamed: 0'], inplace=True)\n",
    "df.head(5)"
   ]
  },
  {
   "cell_type": "code",
   "execution_count": 3,
   "id": "56645ea2",
   "metadata": {},
   "outputs": [],
   "source": [
    "cuts = list(df['cut'].unique())\n",
    "colors = list(df['color'].unique())\n",
    "clarities = list(df['clarity'].unique())\n",
    "cities = list(df['city'].unique())\n",
    "clar_no_i1 = clarities.copy()\n",
    "clar_no_i1.remove('I1')"
   ]
  },
  {
   "cell_type": "code",
   "execution_count": 4,
   "id": "9e5f7f4f",
   "metadata": {},
   "outputs": [],
   "source": [
    "#checking the most repeated carats:\n",
    "top_10_carat = df[['carat']].value_counts().head(10).reset_index()"
   ]
  },
  {
   "cell_type": "code",
   "execution_count": 5,
   "id": "f7d043bd",
   "metadata": {},
   "outputs": [],
   "source": [
    "top_10_carat.rename(columns={0: 'sample'}, inplace=True)"
   ]
  },
  {
   "cell_type": "code",
   "execution_count": 6,
   "id": "7b08ad35",
   "metadata": {},
   "outputs": [],
   "source": [
    "carats = list(top_10_carat['carat'])"
   ]
  },
  {
   "cell_type": "code",
   "execution_count": 7,
   "id": "68309ca2",
   "metadata": {},
   "outputs": [],
   "source": [
    "df_2 = df[['cut', 'color', 'clarity', 'price','city', 'carat']]"
   ]
  },
  {
   "cell_type": "code",
   "execution_count": 8,
   "id": "e62196b5",
   "metadata": {},
   "outputs": [],
   "source": [
    "df_2 = df_2[df_2['carat'].isin(carats)]"
   ]
  },
  {
   "cell_type": "markdown",
   "id": "128504ed",
   "metadata": {},
   "source": [
    "### Function to create a scaled label to cut, color & clarity"
   ]
  },
  {
   "cell_type": "code",
   "execution_count": 10,
   "id": "7ed8003d",
   "metadata": {},
   "outputs": [],
   "source": [
    "def classificatoration(df, col1, col2, target, values, scale=1):\n",
    "    df_corr = pd.DataFrame(columns=[target, 'label'])\n",
    "    n = 0\n",
    "    values.sort()\n",
    "    \n",
    "    if scale == 2:\n",
    "        scaler = StandardScaler()\n",
    "    elif scale ==3:\n",
    "        scaler = RobustScaler()\n",
    "    else:\n",
    "        scaler = MinMaxScaler()\n",
    "    \n",
    "    \n",
    "    for car in carats:\n",
    "        for x in df.loc[df['carat'] == car][col1].unique():\n",
    "            for y in df.loc[df['carat'] == car].loc[df[col1] == x][col2].unique():\n",
    "                items = list(df_2.loc[df_2['carat'] == car].loc[df_2[col1] == x].loc[df_2[col2] == y][target].unique())\n",
    "                items.sort()\n",
    "                if items == values:\n",
    "                    temp_df = df_2.loc[df_2['carat'] == car].loc[df_2[col1] == x].loc[df_2[col2] == y]\n",
    "                    agg_df = temp_df.groupby([col1, col2, target]).sum(numeric_only=True).reset_index()\n",
    "                    agg_df['pxc'] = agg_df['price']/agg_df['carat']\n",
    "                \n",
    "\n",
    "                    agg_df['label'] = scaler.fit_transform(agg_df[['pxc']])\n",
    "                \n",
    "                    df_corr = pd.concat([df_corr, agg_df[[target, 'label']]], axis=0)\n",
    "                    n += 1\n",
    "    \n",
    "    print(f'Results based in {n} combinations. Scaler: {scaler}.')     \n",
    "    \n",
    "    return df_corr.groupby(target).mean(numeric_only=True).sort_values('label', ascending=False).reset_index()\n",
    "                "
   ]
  },
  {
   "cell_type": "markdown",
   "id": "dc18d12b",
   "metadata": {},
   "source": [
    "### Create & save labeling tables"
   ]
  },
  {
   "cell_type": "code",
   "execution_count": 11,
   "id": "f38954e2",
   "metadata": {},
   "outputs": [
    {
     "name": "stdout",
     "output_type": "stream",
     "text": [
      "Results based in 14 combinations. Scaler: MinMaxScaler().\n",
      "Results based in 14 combinations. Scaler: StandardScaler().\n",
      "Results based in 14 combinations. Scaler: RobustScaler().\n"
     ]
    }
   ],
   "source": [
    "clar_lab_mm = classificatoration(df_2, 'cut', 'color', 'clarity', clarities, scale=1)\n",
    "clar_lab_std = classificatoration(df_2, 'cut', 'color', 'clarity', clarities, scale=2)\n",
    "clar_lab_rob = classificatoration(df_2, 'cut', 'color', 'clarity', clarities, scale=3)"
   ]
  },
  {
   "cell_type": "code",
   "execution_count": 12,
   "id": "535edd4e",
   "metadata": {},
   "outputs": [],
   "source": [
    "clar_lab_mm.to_csv('../data/scales/clar_lab_mm.csv')\n",
    "clar_lab_std.to_csv('../data/scales/clar_lab_std.csv')\n",
    "clar_lab_rob.to_csv('../data/scales/clar_lab_rob.csv')"
   ]
  },
  {
   "cell_type": "code",
   "execution_count": 13,
   "id": "47e89207",
   "metadata": {},
   "outputs": [
    {
     "name": "stdout",
     "output_type": "stream",
     "text": [
      "Results based in 134 combinations. Scaler: MinMaxScaler().\n",
      "Results based in 134 combinations. Scaler: StandardScaler().\n",
      "Results based in 134 combinations. Scaler: RobustScaler().\n"
     ]
    }
   ],
   "source": [
    "cut_lab_mm = classificatoration(df_2, 'color', 'clarity', 'cut', cuts, scale=1)\n",
    "cut_lab_std = classificatoration(df_2, 'color', 'clarity', 'cut', cuts, scale=2)\n",
    "cut_lab_rob = classificatoration(df_2, 'color', 'clarity', 'cut', cuts, scale=3)"
   ]
  },
  {
   "cell_type": "code",
   "execution_count": 14,
   "id": "0d385ef7",
   "metadata": {},
   "outputs": [],
   "source": [
    "cut_lab_mm.to_csv('../data/scales/cut_lab_mm.csv')\n",
    "cut_lab_std.to_csv('../data/scales/cut_lab_std.csv')\n",
    "cut_lab_rob.to_csv('../data/scales/cut_lab_rob.csv')"
   ]
  },
  {
   "cell_type": "code",
   "execution_count": 15,
   "id": "7f351662",
   "metadata": {},
   "outputs": [
    {
     "name": "stdout",
     "output_type": "stream",
     "text": [
      "Results based in 116 combinations. Scaler: MinMaxScaler().\n",
      "Results based in 116 combinations. Scaler: StandardScaler().\n",
      "Results based in 116 combinations. Scaler: RobustScaler().\n"
     ]
    }
   ],
   "source": [
    "col_lab_mm = classificatoration(df_2, 'cut', 'clarity', 'color', colors, scale=1)\n",
    "col_lab_std = classificatoration(df_2, 'cut', 'clarity', 'color', colors, scale=2)\n",
    "col_lab_rob = classificatoration(df_2, 'cut', 'clarity', 'color', colors, scale=3)"
   ]
  },
  {
   "cell_type": "code",
   "execution_count": 16,
   "id": "d606582e",
   "metadata": {},
   "outputs": [],
   "source": [
    "col_lab_mm.to_csv('../data/scales/col_lab_mm.csv')\n",
    "col_lab_std.to_csv('../data/scales/col_lab_std.csv')\n",
    "col_lab_rob.to_csv('../data/scales/col_lab_rob.csv')"
   ]
  }
 ],
 "metadata": {
  "kernelspec": {
   "display_name": "Python [conda env:sklearn_env]",
   "language": "python",
   "name": "conda-env-sklearn_env-py"
  },
  "language_info": {
   "codemirror_mode": {
    "name": "ipython",
    "version": 3
   },
   "file_extension": ".py",
   "mimetype": "text/x-python",
   "name": "python",
   "nbconvert_exporter": "python",
   "pygments_lexer": "ipython3",
   "version": "3.11.3"
  }
 },
 "nbformat": 4,
 "nbformat_minor": 5
}
