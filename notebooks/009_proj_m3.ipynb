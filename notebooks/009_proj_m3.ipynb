{
 "cells": [
  {
   "cell_type": "code",
   "execution_count": 1,
   "id": "05de0174",
   "metadata": {},
   "outputs": [],
   "source": [
    "import pandas as pd\n",
    "\n",
    "from sklearn import datasets\n",
    "from sklearn.datasets import make_regression\n",
    "from sklearn.model_selection import train_test_split\n",
    "import pickle\n",
    "import joblib\n",
    "\n",
    "from sklearn.metrics import mean_squared_error\n",
    "\n",
    "from sklearn.ensemble import RandomForestRegressor\n",
    "from sklearn.ensemble import GradientBoostingRegressor\n",
    "from sklearn.model_selection import cross_val_score\n",
    "\n",
    "from sklearn.model_selection import GridSearchCV\n",
    "from sklearn.model_selection import RandomizedSearchCV\n",
    "\n",
    "from sklearn.preprocessing import StandardScaler\n",
    "from sklearn.preprocessing import MinMaxScaler\n",
    "from sklearn.preprocessing import RobustScaler\n",
    "\n",
    "import xgboost as xgb\n",
    "import lightgbm as lgb\n",
    "from catboost import CatBoostRegressor"
   ]
  },
  {
   "cell_type": "code",
   "execution_count": 2,
   "id": "394b8f22",
   "metadata": {},
   "outputs": [],
   "source": [
    "#scale\n",
    "\n",
    "def scaling_feat(df, to_scale, not_to_scale, scale=1):\n",
    "    \n",
    "    scalable = df[to_scale]\n",
    "    not_scalable = df[not_to_scale]\n",
    "\n",
    "    if scale == 2:\n",
    "        scaler = StandardScaler()\n",
    "    elif scale ==3:\n",
    "        scaler = RobustScaler()\n",
    "    else:\n",
    "        scaler = MinMaxScaler()\n",
    "\n",
    "    scaled = pd.DataFrame(scaler.fit_transform(scalable), columns=to_scale)\n",
    "    \n",
    "    return not_scalable.join(scaled)"
   ]
  },
  {
   "cell_type": "code",
   "execution_count": 3,
   "id": "51c8b03b",
   "metadata": {},
   "outputs": [],
   "source": [
    "def carat_to_bins(df, carat):\n",
    "    \n",
    "    df.loc[df[carat].between(0, .5, 'left'), 'bin'] = 1.0\n",
    "    df.loc[df[carat].between(.5, 1.0, 'left'), 'bin'] = 1.44\n",
    "    df.loc[df[carat].between(1.0, 1.5, 'left'), 'bin'] = 2.3\n",
    "    df.loc[df[carat].between(1.5, 2.0, 'left'), 'bin'] = 3.21\n",
    "    df.loc[df[carat].between(2.0, 3.0, 'left'), 'bin'] = 4.12\n",
    "    df.loc[df[carat].between(3.0, 4.0, 'left'), 'bin'] = 5.53\n",
    "    df.loc[df[carat].between(4.0, 10.0, 'left'), 'bin'] = 8.39\n",
    "    \n",
    "    return df"
   ]
  },
  {
   "cell_type": "code",
   "execution_count": 4,
   "id": "2d06d313",
   "metadata": {},
   "outputs": [],
   "source": [
    "pre_x_train = pd.read_csv('../data/diamonds_train.csv')\n",
    "pre_x_test = pd.read_csv('../data/diamonds_test.csv')\n",
    "pre_x_train.drop(columns=['Unnamed: 0'], inplace=True)\n",
    "pre_x_test.drop(columns=['id'], inplace=True)"
   ]
  },
  {
   "cell_type": "code",
   "execution_count": 5,
   "id": "4f013ec1",
   "metadata": {},
   "outputs": [],
   "source": [
    "#unify with test to scale features\n",
    "\n",
    "pre_x_train = pd.concat([pre_x_train, pre_x_test])\n",
    "pre_x_train.reset_index(inplace=True)\n",
    "pre_x_train.drop(columns=['index'], inplace=True)"
   ]
  },
  {
   "cell_type": "code",
   "execution_count": 6,
   "id": "5eb096b0",
   "metadata": {},
   "outputs": [],
   "source": [
    "#columns bin for carat\n",
    "\n",
    "pre_x_train = carat_to_bins(pre_x_train, 'carat')"
   ]
  },
  {
   "cell_type": "code",
   "execution_count": 8,
   "id": "c3d3904a",
   "metadata": {},
   "outputs": [],
   "source": [
    "#scaling features\n",
    "\n",
    "feat_to_scale = ['carat', 'depth', 'table', 'x', 'y', 'z', 'bin']\n",
    "others = ['cut', 'color', 'clarity', 'city', 'price']\n",
    "pre_x_scaled = scaling_feat(pre_x_train, feat_to_scale, others)"
   ]
  },
  {
   "cell_type": "code",
   "execution_count": 9,
   "id": "4d60b891",
   "metadata": {},
   "outputs": [],
   "source": [
    "#drop test rows\n",
    "pre_x_scaled = pre_x_scaled[pre_x_scaled['price'].notna()]"
   ]
  },
  {
   "cell_type": "code",
   "execution_count": 10,
   "id": "01fc1ff2",
   "metadata": {},
   "outputs": [],
   "source": [
    "#labeling cut, color, clarity\n",
    "\n",
    "clar_lab_mm = pd.read_csv('../data/scales/clar_lab_mm.csv')\n",
    "cut_lab_mm = pd.read_csv('../data/scales/cut_lab_mm.csv')\n",
    "col_lab_mm = pd.read_csv('../data/scales/col_lab_mm.csv')\n",
    "\n",
    "# clar_lab_rob = pd.read_csv('../data/scales/clar_lab_mm.csv')\n",
    "# cut_lab_rob = pd.read_csv('../data/scales/cut_lab_mm.csv')\n",
    "# col_lab_rob = pd.read_csv('../data/scales/col_lab_mm.csv')\n",
    "\n",
    "clar_lab_mm.drop(columns=['Unnamed: 0'], inplace=True)\n",
    "cut_lab_mm.drop(columns=['Unnamed: 0'], inplace=True)\n",
    "col_lab_mm.drop(columns=['Unnamed: 0'], inplace=True)\n",
    "\n",
    "# clar_lab_rob.drop(columns=['Unnamed: 0'], inplace=True)\n",
    "# cut_lab_rob.drop(columns=['Unnamed: 0'], inplace=True)\n",
    "# col_lab_rob.drop(columns=['Unnamed: 0'], inplace=True)"
   ]
  },
  {
   "cell_type": "code",
   "execution_count": 11,
   "id": "7510b57b",
   "metadata": {},
   "outputs": [],
   "source": [
    "# labeling cut, color & clarity\n",
    "\n",
    "pre_x_scaled2 = pre_x_scaled\n",
    "\n",
    "cut2 = [cut_lab_mm[cut_lab_mm['cut'] == c]['label'].iloc[0] for c in pre_x_scaled2['cut']]\n",
    "color2 = [col_lab_mm[col_lab_mm['color'] == c]['label'].iloc[0] for c in pre_x_scaled2['color']]\n",
    "clarity2 = [clar_lab_mm[clar_lab_mm['clarity'] == c]['label'].iloc[0] for c in pre_x_scaled2['clarity']]\n",
    "\n",
    "pre_x_scaled2['cut2'] = cut2\n",
    "pre_x_scaled2['color2'] = color2\n",
    "pre_x_scaled2['clar2'] = clarity2"
   ]
  },
  {
   "cell_type": "code",
   "execution_count": 12,
   "id": "a90dc550",
   "metadata": {},
   "outputs": [],
   "source": [
    "pre_x_scaled2.drop(columns=['cut', 'color', 'clarity'], inplace=True)"
   ]
  },
  {
   "cell_type": "code",
   "execution_count": 13,
   "id": "80eabcb2",
   "metadata": {},
   "outputs": [],
   "source": [
    "#droping city column\n",
    "pre_x_scaled2 = pre_x_scaled2.drop(columns='city')"
   ]
  },
  {
   "cell_type": "code",
   "execution_count": 15,
   "id": "542ebe07",
   "metadata": {},
   "outputs": [
    {
     "data": {
      "text/plain": [
       "Index(['price', 'carat', 'depth', 'table', 'x', 'y', 'z', 'bin', 'cut2',\n",
       "       'color2', 'clar2'],\n",
       "      dtype='object')"
      ]
     },
     "execution_count": 15,
     "metadata": {},
     "output_type": "execute_result"
    }
   ],
   "source": [
    "pre_x_scaled2.columns"
   ]
  },
  {
   "cell_type": "code",
   "execution_count": 16,
   "id": "47ea0e67",
   "metadata": {},
   "outputs": [],
   "source": [
    "feat = ['carat', 'bin', 'depth', 'table', 'clar2', 'cut2', 'color2']\n",
    "# feat = ['price', 'carat', 'depth', 'table', 'x', 'y', 'z', 'bin', 'clar2', 'cut2', 'color2']\n",
    "\n",
    "target = ['price']"
   ]
  },
  {
   "cell_type": "code",
   "execution_count": 17,
   "id": "a508341b",
   "metadata": {},
   "outputs": [],
   "source": [
    "X, y = pre_x_scaled2[feat], pre_x_scaled2[target]"
   ]
  },
  {
   "cell_type": "code",
   "execution_count": 18,
   "id": "2b96daf5",
   "metadata": {},
   "outputs": [],
   "source": [
    "X_train, X_test, y_train, y_test = train_test_split(X, y, test_size=0.2, random_state=42)"
   ]
  },
  {
   "cell_type": "code",
   "execution_count": 19,
   "id": "471c8476",
   "metadata": {},
   "outputs": [
    {
     "name": "stdout",
     "output_type": "stream",
     "text": [
      "<class 'xgboost.sklearn.XGBRegressor'> \n",
      "\n",
      "563.548204959016 \n",
      "\n",
      "CPU times: total: 1min 25s\n",
      "Wall time: 11.6 s\n"
     ]
    }
   ],
   "source": [
    "%%time\n",
    "# XGBoost regression\n",
    "\n",
    "regressor=xgb.XGBRegressor(learning_rate = 0.01,\n",
    "                           n_estimators  = 900,\n",
    "                           max_depth     = 6,\n",
    "                           eval_metric='rmsle')\n",
    "regressor.fit(X_train, y_train)\n",
    "prediction = regressor.predict(X_test)\n",
    "\n",
    "rmse = mean_squared_error(y_test, prediction)**0.5\n",
    "\n",
    "print(type(regressor), '\\n')\n",
    "print(rmse, '\\n')"
   ]
  },
  {
   "cell_type": "code",
   "execution_count": 36,
   "id": "ce433dd0",
   "metadata": {},
   "outputs": [],
   "source": [
    "## lightgbm regression\n",
    "\n",
    "params = {\n",
    "    'task': 'train', \n",
    "    'boosting': 'gbdt',\n",
    "    'objective': 'regression',\n",
    "    'num_leaves': 15,\n",
    "#     'learning_rate': 0.05,\n",
    "    'metric': {'l2','l1'},\n",
    "    'verbose': -1\n",
    "#     'task': 'train', \n",
    "#     'boosting': 'gbdt',\n",
    "#     'objective': 'regression',\n",
    "#     'num_leaves': 25,\n",
    "#     'max_depth' :10,\n",
    "#     'num_iterations': 500,\n",
    "#     'min_data_in_leaf':25,\n",
    "#     'metric': {'l2','l1'},\n",
    "#     'verbose': -1\n",
    "\n",
    "}\n",
    "\n",
    "\n",
    "lgb_train = lgb.Dataset(X, y)\n",
    "\n",
    "model_lightgbm = lgb.train(params,\n",
    "                 train_set=lgb_train)"
   ]
  },
  {
   "cell_type": "code",
   "execution_count": 43,
   "id": "3aec78fb",
   "metadata": {},
   "outputs": [
    {
     "name": "stdout",
     "output_type": "stream",
     "text": [
      "[1]\tvalid_0's l2: 1.30653e+07\tvalid_0's l1: 2731.97\n",
      "Training until validation scores don't improve for 30 rounds\n",
      "[2]\tvalid_0's l2: 1.07785e+07\tvalid_0's l1: 2472.77\n",
      "[3]\tvalid_0's l2: 8.92065e+06\tvalid_0's l1: 2242.62\n",
      "[4]\tvalid_0's l2: 7.40731e+06\tvalid_0's l1: 2033.24\n",
      "[5]\tvalid_0's l2: 6.18327e+06\tvalid_0's l1: 1848.44\n",
      "[6]\tvalid_0's l2: 5.18525e+06\tvalid_0's l1: 1681.75\n",
      "[7]\tvalid_0's l2: 4.36761e+06\tvalid_0's l1: 1533.07\n",
      "[8]\tvalid_0's l2: 3.69084e+06\tvalid_0's l1: 1399.48\n",
      "[9]\tvalid_0's l2: 3.1428e+06\tvalid_0's l1: 1283.31\n",
      "[10]\tvalid_0's l2: 2.69341e+06\tvalid_0's l1: 1179.12\n",
      "[11]\tvalid_0's l2: 2.32234e+06\tvalid_0's l1: 1085.54\n",
      "[12]\tvalid_0's l2: 2.01309e+06\tvalid_0's l1: 1003.58\n",
      "[13]\tvalid_0's l2: 1.76323e+06\tvalid_0's l1: 932.842\n",
      "[14]\tvalid_0's l2: 1.55838e+06\tvalid_0's l1: 868.985\n",
      "[15]\tvalid_0's l2: 1.38042e+06\tvalid_0's l1: 811.231\n",
      "[16]\tvalid_0's l2: 1.2359e+06\tvalid_0's l1: 761.291\n",
      "[17]\tvalid_0's l2: 1.10929e+06\tvalid_0's l1: 716.45\n",
      "[18]\tvalid_0's l2: 1.00884e+06\tvalid_0's l1: 676.927\n",
      "[19]\tvalid_0's l2: 923119\tvalid_0's l1: 641.621\n",
      "[20]\tvalid_0's l2: 851961\tvalid_0's l1: 610.512\n",
      "[21]\tvalid_0's l2: 787845\tvalid_0's l1: 582.325\n",
      "[22]\tvalid_0's l2: 737163\tvalid_0's l1: 557.823\n",
      "[23]\tvalid_0's l2: 691834\tvalid_0's l1: 534.733\n",
      "[24]\tvalid_0's l2: 654482\tvalid_0's l1: 514.45\n",
      "[25]\tvalid_0's l2: 621815\tvalid_0's l1: 496.611\n",
      "[26]\tvalid_0's l2: 592294\tvalid_0's l1: 480.688\n",
      "[27]\tvalid_0's l2: 567241\tvalid_0's l1: 465.59\n",
      "[28]\tvalid_0's l2: 545586\tvalid_0's l1: 451.473\n",
      "[29]\tvalid_0's l2: 527550\tvalid_0's l1: 440.006\n",
      "[30]\tvalid_0's l2: 508890\tvalid_0's l1: 429.398\n",
      "[31]\tvalid_0's l2: 494160\tvalid_0's l1: 420.23\n",
      "[32]\tvalid_0's l2: 478889\tvalid_0's l1: 409.744\n",
      "[33]\tvalid_0's l2: 466278\tvalid_0's l1: 401.659\n",
      "[34]\tvalid_0's l2: 455732\tvalid_0's l1: 394.445\n",
      "[35]\tvalid_0's l2: 445771\tvalid_0's l1: 386.623\n",
      "[36]\tvalid_0's l2: 438016\tvalid_0's l1: 380.785\n",
      "[37]\tvalid_0's l2: 430403\tvalid_0's l1: 374.499\n",
      "[38]\tvalid_0's l2: 422697\tvalid_0's l1: 368.745\n",
      "[39]\tvalid_0's l2: 415488\tvalid_0's l1: 364.115\n",
      "[40]\tvalid_0's l2: 409806\tvalid_0's l1: 359.143\n",
      "[41]\tvalid_0's l2: 404551\tvalid_0's l1: 355.129\n",
      "[42]\tvalid_0's l2: 399539\tvalid_0's l1: 350.827\n",
      "[43]\tvalid_0's l2: 395317\tvalid_0's l1: 348.189\n",
      "[44]\tvalid_0's l2: 390554\tvalid_0's l1: 344.785\n",
      "[45]\tvalid_0's l2: 387014\tvalid_0's l1: 341.61\n",
      "[46]\tvalid_0's l2: 382649\tvalid_0's l1: 338.458\n",
      "[47]\tvalid_0's l2: 379079\tvalid_0's l1: 335.77\n",
      "[48]\tvalid_0's l2: 375705\tvalid_0's l1: 333.185\n",
      "[49]\tvalid_0's l2: 372440\tvalid_0's l1: 330.743\n",
      "[50]\tvalid_0's l2: 370263\tvalid_0's l1: 328.994\n",
      "[51]\tvalid_0's l2: 367133\tvalid_0's l1: 327.202\n",
      "[52]\tvalid_0's l2: 365172\tvalid_0's l1: 325.416\n",
      "[53]\tvalid_0's l2: 363518\tvalid_0's l1: 323.875\n",
      "[54]\tvalid_0's l2: 361589\tvalid_0's l1: 322.61\n",
      "[55]\tvalid_0's l2: 360090\tvalid_0's l1: 320.704\n",
      "[56]\tvalid_0's l2: 357972\tvalid_0's l1: 319.415\n",
      "[57]\tvalid_0's l2: 356218\tvalid_0's l1: 317.888\n",
      "[58]\tvalid_0's l2: 355145\tvalid_0's l1: 316.724\n",
      "[59]\tvalid_0's l2: 353271\tvalid_0's l1: 315.357\n",
      "[60]\tvalid_0's l2: 352073\tvalid_0's l1: 314.223\n",
      "[61]\tvalid_0's l2: 350831\tvalid_0's l1: 313.008\n",
      "[62]\tvalid_0's l2: 350313\tvalid_0's l1: 312.535\n",
      "[63]\tvalid_0's l2: 349453\tvalid_0's l1: 311.563\n",
      "[64]\tvalid_0's l2: 348473\tvalid_0's l1: 311.014\n",
      "[65]\tvalid_0's l2: 347439\tvalid_0's l1: 310.325\n",
      "[66]\tvalid_0's l2: 346870\tvalid_0's l1: 309.878\n",
      "[67]\tvalid_0's l2: 346181\tvalid_0's l1: 309.29\n",
      "[68]\tvalid_0's l2: 345639\tvalid_0's l1: 308.902\n",
      "[69]\tvalid_0's l2: 344686\tvalid_0's l1: 308.304\n",
      "[70]\tvalid_0's l2: 343441\tvalid_0's l1: 307.573\n",
      "[71]\tvalid_0's l2: 342706\tvalid_0's l1: 307.078\n",
      "[72]\tvalid_0's l2: 341949\tvalid_0's l1: 306.513\n",
      "[73]\tvalid_0's l2: 341398\tvalid_0's l1: 306.124\n",
      "[74]\tvalid_0's l2: 340744\tvalid_0's l1: 305.862\n",
      "[75]\tvalid_0's l2: 340066\tvalid_0's l1: 305.25\n",
      "[76]\tvalid_0's l2: 339724\tvalid_0's l1: 304.907\n",
      "[77]\tvalid_0's l2: 339128\tvalid_0's l1: 304.724\n",
      "[78]\tvalid_0's l2: 338685\tvalid_0's l1: 304.32\n",
      "[79]\tvalid_0's l2: 338573\tvalid_0's l1: 304.214\n",
      "[80]\tvalid_0's l2: 338025\tvalid_0's l1: 303.901\n",
      "[81]\tvalid_0's l2: 337701\tvalid_0's l1: 303.659\n",
      "[82]\tvalid_0's l2: 337376\tvalid_0's l1: 303.422\n",
      "[83]\tvalid_0's l2: 337294\tvalid_0's l1: 303.274\n",
      "[84]\tvalid_0's l2: 336845\tvalid_0's l1: 303.013\n",
      "[85]\tvalid_0's l2: 336323\tvalid_0's l1: 302.548\n",
      "[86]\tvalid_0's l2: 336286\tvalid_0's l1: 302.616\n",
      "[87]\tvalid_0's l2: 336174\tvalid_0's l1: 302.467\n",
      "[88]\tvalid_0's l2: 336372\tvalid_0's l1: 302.49\n",
      "[89]\tvalid_0's l2: 336342\tvalid_0's l1: 302.277\n",
      "[90]\tvalid_0's l2: 336119\tvalid_0's l1: 302.215\n",
      "[91]\tvalid_0's l2: 336024\tvalid_0's l1: 302.142\n",
      "[92]\tvalid_0's l2: 335645\tvalid_0's l1: 301.983\n",
      "[93]\tvalid_0's l2: 335278\tvalid_0's l1: 301.682\n",
      "[94]\tvalid_0's l2: 335379\tvalid_0's l1: 301.653\n",
      "[95]\tvalid_0's l2: 334754\tvalid_0's l1: 301.322\n",
      "[96]\tvalid_0's l2: 334386\tvalid_0's l1: 301.132\n",
      "[97]\tvalid_0's l2: 334200\tvalid_0's l1: 301.013\n",
      "[98]\tvalid_0's l2: 334093\tvalid_0's l1: 300.938\n",
      "[99]\tvalid_0's l2: 334111\tvalid_0's l1: 300.898\n",
      "[100]\tvalid_0's l2: 333489\tvalid_0's l1: 300.608\n",
      "Did not meet early stopping. Best iteration is:\n",
      "[100]\tvalid_0's l2: 333489\tvalid_0's l1: 300.608\n",
      "577.4852019313034 \n",
      "\n",
      "CPU times: total: 719 ms\n",
      "Wall time: 120 ms\n"
     ]
    },
    {
     "name": "stderr",
     "output_type": "stream",
     "text": [
      "C:\\Users\\magnof\\AppData\\Local\\miniconda3\\envs\\sklearn_env\\Lib\\site-packages\\lightgbm\\engine.py:181: UserWarning: 'early_stopping_rounds' argument is deprecated and will be removed in a future release of LightGBM. Pass 'early_stopping()' callback via 'callbacks' argument instead.\n",
      "  _log_warning(\"'early_stopping_rounds' argument is deprecated and will be removed in a future release of LightGBM. \"\n"
     ]
    }
   ],
   "source": [
    "%%time\n",
    "\n",
    "## lightgbm regression\n",
    "\n",
    "params = {\n",
    "    'task': 'train', \n",
    "    'boosting': 'gbdt',\n",
    "    'objective': 'regression',\n",
    "    'num_leaves': 15,\n",
    "#     'learning_rate': 0.05,\n",
    "    'metric': {'l2','l1'},\n",
    "    'verbose': -1\n",
    "#         'task': 'train', \n",
    "#     'boosting': 'gbdt',\n",
    "#     'objective': 'regression',\n",
    "#     'num_leaves': 25,\n",
    "#     'max_depth' :10,\n",
    "#     'num_iterations': 500,\n",
    "#     'min_data_in_leaf':25,\n",
    "#     'metric': {'l2','l1'},\n",
    "#     'verbose': -1\n",
    "}\n",
    "\n",
    "\n",
    "lgb_train = lgb.Dataset(X_train, y_train)\n",
    "lgb_eval = lgb.Dataset(X_test, y_test, reference=lgb_train)\n",
    "\n",
    "model_lightgbm = lgb.train(params,\n",
    "                 train_set=lgb_train,\n",
    "                 valid_sets=lgb_eval,\n",
    "                 early_stopping_rounds=30)\n",
    "\n",
    "\n",
    "prediction = model_lightgbm.predict(X_test)\n",
    "\n",
    "rmse = mean_squared_error(y_test, prediction)**0.5\n",
    "\n",
    "print(rmse, '\\n')"
   ]
  },
  {
   "cell_type": "markdown",
   "id": "68977cc5",
   "metadata": {},
   "source": [
    "## Preparing TEST DF"
   ]
  },
  {
   "cell_type": "code",
   "execution_count": 27,
   "id": "e10efdd0",
   "metadata": {},
   "outputs": [],
   "source": [
    "#preparing test df\n",
    "\n",
    "to_predict = pre_x_test = pd.read_csv('../data/diamonds_test.csv')\n",
    "to_predict.drop(columns=['id'], inplace=True)\n",
    "\n",
    "\n",
    "#carat to bins\n",
    "to_predict = carat_to_bins(to_predict, 'carat')\n",
    "\n",
    "#scaling columns\n",
    "feat_to_scale = ['carat', 'depth', 'table', 'x', 'y', 'z', 'bin']\n",
    "others = ['cut', 'color', 'clarity', 'city']\n",
    "to_predict_s = scaling_feat(to_predict, feat_to_scale, others)"
   ]
  },
  {
   "cell_type": "code",
   "execution_count": 28,
   "id": "1f047e87",
   "metadata": {},
   "outputs": [],
   "source": [
    "#labeling cut, color, clarity\n",
    "\n",
    "cut2 = [cut_lab_mm[cut_lab_mm['cut'] == c]['label'].iloc[0] for c in to_predict_s['cut']]\n",
    "color2 = [col_lab_mm[col_lab_mm['color'] == c]['label'].iloc[0] for c in to_predict_s['color']]\n",
    "clarity2 = [clar_lab_mm[clar_lab_mm['clarity'] == c]['label'].iloc[0] for c in to_predict_s['clarity']]\n",
    "\n",
    "to_predict_s['cut2'] = cut2\n",
    "to_predict_s['color2'] = color2\n",
    "to_predict_s['clar2'] = clarity2\n",
    "\n",
    "to_predict_s.drop(columns=['cut', 'color', 'clarity'], inplace=True)"
   ]
  },
  {
   "cell_type": "code",
   "execution_count": 29,
   "id": "73260ff0",
   "metadata": {},
   "outputs": [],
   "source": [
    "#drop city column\n",
    "to_predict_s.drop(columns=['city'], inplace=True)"
   ]
  },
  {
   "cell_type": "code",
   "execution_count": 30,
   "id": "b42e3ae6",
   "metadata": {},
   "outputs": [
    {
     "data": {
      "text/plain": [
       "Index(['carat', 'depth', 'table', 'x', 'y', 'z', 'bin', 'cut2', 'color2',\n",
       "       'clar2'],\n",
       "      dtype='object')"
      ]
     },
     "execution_count": 30,
     "metadata": {},
     "output_type": "execute_result"
    }
   ],
   "source": [
    "to_predict_s.columns"
   ]
  },
  {
   "cell_type": "code",
   "execution_count": 31,
   "id": "ca00cf55",
   "metadata": {},
   "outputs": [],
   "source": [
    "to_predict_X = to_predict_s[feat]"
   ]
  },
  {
   "cell_type": "markdown",
   "id": "5ef3c0d9",
   "metadata": {},
   "source": [
    "### Prediction"
   ]
  },
  {
   "cell_type": "code",
   "execution_count": 32,
   "id": "7882d8af",
   "metadata": {},
   "outputs": [],
   "source": [
    "#lightgbm predictions\n",
    "light_pred = model_lightgbm.predict(to_predict_X)"
   ]
  },
  {
   "cell_type": "markdown",
   "id": "58a0f65c",
   "metadata": {},
   "source": [
    "## Save prediction"
   ]
  },
  {
   "cell_type": "code",
   "execution_count": null,
   "id": "71b29d61",
   "metadata": {},
   "outputs": [],
   "source": [
    "prices = pd.DataFrame(rforest_pred, columns=['Price'])\n",
    "prices.reset_index(inplace=True)\n",
    "prices.rename(columns={\"index\": \"id\"}, inplace=True)\n",
    "prices = prices.set_index('id')\n",
    "prices.to_csv('../data/prices_lightgbm.csv')"
   ]
  }
 ],
 "metadata": {
  "kernelspec": {
   "display_name": "Python [conda env:sklearn_env]",
   "language": "python",
   "name": "conda-env-sklearn_env-py"
  },
  "language_info": {
   "codemirror_mode": {
    "name": "ipython",
    "version": 3
   },
   "file_extension": ".py",
   "mimetype": "text/x-python",
   "name": "python",
   "nbconvert_exporter": "python",
   "pygments_lexer": "ipython3",
   "version": "3.11.3"
  }
 },
 "nbformat": 4,
 "nbformat_minor": 5
}
