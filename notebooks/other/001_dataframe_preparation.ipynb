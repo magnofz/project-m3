{
 "cells": [
  {
   "cell_type": "markdown",
   "id": "04487fb2",
   "metadata": {},
   "source": [
    "## Data Frame preparation\n",
    "#### This notebook is only for retrieving the necessary information from the database and turning it into a .csv file"
   ]
  },
  {
   "cell_type": "code",
   "execution_count": 1,
   "id": "b5541a6f",
   "metadata": {},
   "outputs": [],
   "source": [
    "import pandas as pd\n",
    "import duckdb\n",
    "duckdb.sql('INSTALL sqlite; LOAD sqlite;')"
   ]
  },
  {
   "cell_type": "code",
   "execution_count": 2,
   "id": "c0c1f524",
   "metadata": {},
   "outputs": [],
   "source": [
    "con = duckdb.connect('../data/diamonds_train.db')\n",
    "\n",
    "df_diamonds = con.execute(\n",
    "'''SELECT dt.index_id, dt.carat, dcut.cut, dcolor.color, dcl.clarity, dd.depth, dd.table, dd.x, dd.y, dd.z, dc.city, dt.price \n",
    "FROM diamonds_transactional AS dt\n",
    "INNER JOIN diamonds_city AS dc ON dt.city_id = dc.city_id\n",
    "INNER JOIN diamonds_properties AS dp ON dt.index_id = dp.index_id\n",
    "INNER JOIN diamonds_clarity AS dcl ON dp.clarity_id = dcl.clarity_id\n",
    "INNER JOIN diamonds_color AS dcolor ON dp.color_id = dcolor.color_id\n",
    "INNER JOIN diamonds_cut AS dcut ON dp.cut_id = dcut.cut_id\n",
    "INNER JOIN diamonds_dimensions AS dd ON dt.index_id = dd.index_id\n",
    "''').fetch_df()"
   ]
  },
  {
   "cell_type": "code",
   "execution_count": 3,
   "id": "e913664b",
   "metadata": {},
   "outputs": [],
   "source": [
    "df_diamonds.drop(columns='index_id', inplace=True)"
   ]
  },
  {
   "cell_type": "code",
   "execution_count": 4,
   "id": "37a125c2",
   "metadata": {},
   "outputs": [
    {
     "data": {
      "text/html": [
       "<div>\n",
       "<style scoped>\n",
       "    .dataframe tbody tr th:only-of-type {\n",
       "        vertical-align: middle;\n",
       "    }\n",
       "\n",
       "    .dataframe tbody tr th {\n",
       "        vertical-align: top;\n",
       "    }\n",
       "\n",
       "    .dataframe thead th {\n",
       "        text-align: right;\n",
       "    }\n",
       "</style>\n",
       "<table border=\"1\" class=\"dataframe\">\n",
       "  <thead>\n",
       "    <tr style=\"text-align: right;\">\n",
       "      <th></th>\n",
       "      <th>carat</th>\n",
       "      <th>cut</th>\n",
       "      <th>color</th>\n",
       "      <th>clarity</th>\n",
       "      <th>depth</th>\n",
       "      <th>table</th>\n",
       "      <th>x</th>\n",
       "      <th>y</th>\n",
       "      <th>z</th>\n",
       "      <th>city</th>\n",
       "      <th>price</th>\n",
       "    </tr>\n",
       "  </thead>\n",
       "  <tbody>\n",
       "    <tr>\n",
       "      <th>0</th>\n",
       "      <td>1.21</td>\n",
       "      <td>Premium</td>\n",
       "      <td>J</td>\n",
       "      <td>VS2</td>\n",
       "      <td>62.4</td>\n",
       "      <td>58.0</td>\n",
       "      <td>6.83</td>\n",
       "      <td>6.79</td>\n",
       "      <td>4.25</td>\n",
       "      <td>Dubai</td>\n",
       "      <td>4268</td>\n",
       "    </tr>\n",
       "    <tr>\n",
       "      <th>1</th>\n",
       "      <td>0.32</td>\n",
       "      <td>Very Good</td>\n",
       "      <td>H</td>\n",
       "      <td>VS2</td>\n",
       "      <td>63.0</td>\n",
       "      <td>57.0</td>\n",
       "      <td>4.35</td>\n",
       "      <td>4.38</td>\n",
       "      <td>2.75</td>\n",
       "      <td>Kimberly</td>\n",
       "      <td>505</td>\n",
       "    </tr>\n",
       "    <tr>\n",
       "      <th>2</th>\n",
       "      <td>0.71</td>\n",
       "      <td>Fair</td>\n",
       "      <td>G</td>\n",
       "      <td>VS1</td>\n",
       "      <td>65.5</td>\n",
       "      <td>55.0</td>\n",
       "      <td>5.62</td>\n",
       "      <td>5.53</td>\n",
       "      <td>3.65</td>\n",
       "      <td>Las Vegas</td>\n",
       "      <td>2686</td>\n",
       "    </tr>\n",
       "    <tr>\n",
       "      <th>3</th>\n",
       "      <td>0.41</td>\n",
       "      <td>Good</td>\n",
       "      <td>D</td>\n",
       "      <td>SI1</td>\n",
       "      <td>63.8</td>\n",
       "      <td>56.0</td>\n",
       "      <td>4.68</td>\n",
       "      <td>4.72</td>\n",
       "      <td>3.00</td>\n",
       "      <td>Kimberly</td>\n",
       "      <td>738</td>\n",
       "    </tr>\n",
       "    <tr>\n",
       "      <th>4</th>\n",
       "      <td>1.02</td>\n",
       "      <td>Ideal</td>\n",
       "      <td>G</td>\n",
       "      <td>SI1</td>\n",
       "      <td>60.5</td>\n",
       "      <td>59.0</td>\n",
       "      <td>6.55</td>\n",
       "      <td>6.51</td>\n",
       "      <td>3.95</td>\n",
       "      <td>Dubai</td>\n",
       "      <td>4882</td>\n",
       "    </tr>\n",
       "  </tbody>\n",
       "</table>\n",
       "</div>"
      ],
      "text/plain": [
       "   carat        cut color clarity  depth  table     x     y     z       city  \\\n",
       "0   1.21    Premium     J     VS2   62.4   58.0  6.83  6.79  4.25      Dubai   \n",
       "1   0.32  Very Good     H     VS2   63.0   57.0  4.35  4.38  2.75   Kimberly   \n",
       "2   0.71       Fair     G     VS1   65.5   55.0  5.62  5.53  3.65  Las Vegas   \n",
       "3   0.41       Good     D     SI1   63.8   56.0  4.68  4.72  3.00   Kimberly   \n",
       "4   1.02      Ideal     G     SI1   60.5   59.0  6.55  6.51  3.95      Dubai   \n",
       "\n",
       "   price  \n",
       "0   4268  \n",
       "1    505  \n",
       "2   2686  \n",
       "3    738  \n",
       "4   4882  "
      ]
     },
     "execution_count": 4,
     "metadata": {},
     "output_type": "execute_result"
    }
   ],
   "source": [
    "df_diamonds.head(5)"
   ]
  },
  {
   "cell_type": "code",
   "execution_count": 5,
   "id": "db87ce7e",
   "metadata": {},
   "outputs": [],
   "source": [
    "df_diamonds.to_csv('../data/diamonds_train.csv')"
   ]
  },
  {
   "cell_type": "code",
   "execution_count": 6,
   "id": "b4d08c8f",
   "metadata": {},
   "outputs": [
    {
     "name": "stdout",
     "output_type": "stream",
     "text": [
      "<class 'pandas.core.frame.DataFrame'>\n",
      "RangeIndex: 40455 entries, 0 to 40454\n",
      "Data columns (total 11 columns):\n",
      " #   Column   Non-Null Count  Dtype  \n",
      "---  ------   --------------  -----  \n",
      " 0   carat    40455 non-null  float64\n",
      " 1   cut      40455 non-null  object \n",
      " 2   color    40455 non-null  object \n",
      " 3   clarity  40455 non-null  object \n",
      " 4   depth    40455 non-null  float64\n",
      " 5   table    40455 non-null  float64\n",
      " 6   x        40455 non-null  float64\n",
      " 7   y        40455 non-null  float64\n",
      " 8   z        40455 non-null  float64\n",
      " 9   city     40455 non-null  object \n",
      " 10  price    40455 non-null  int64  \n",
      "dtypes: float64(6), int64(1), object(4)\n",
      "memory usage: 3.4+ MB\n"
     ]
    }
   ],
   "source": [
    "df_diamonds.info()"
   ]
  }
 ],
 "metadata": {
  "kernelspec": {
   "display_name": "Python [conda env:sklearn_env]",
   "language": "python",
   "name": "conda-env-sklearn_env-py"
  },
  "language_info": {
   "codemirror_mode": {
    "name": "ipython",
    "version": 3
   },
   "file_extension": ".py",
   "mimetype": "text/x-python",
   "name": "python",
   "nbconvert_exporter": "python",
   "pygments_lexer": "ipython3",
   "version": "3.11.3"
  }
 },
 "nbformat": 4,
 "nbformat_minor": 5
}
