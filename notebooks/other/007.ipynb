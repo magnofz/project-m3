{
 "cells": [
  {
   "cell_type": "code",
   "execution_count": null,
   "id": "05de0174",
   "metadata": {},
   "outputs": [],
   "source": [
    "import pandas as pd\n",
    "\n",
    "from sklearn import datasets\n",
    "from sklearn.datasets import make_regression\n",
    "from sklearn.model_selection import train_test_split\n",
    "import pickle\n",
    "import joblib\n",
    "\n",
    "from sklearn import linear_model\n",
    "from sklearn.linear_model import ElasticNet\n",
    "from sklearn.linear_model import Ridge\n",
    "from sklearn.svm import SVR\n",
    "from sklearn.linear_model import SGDRegressor\n",
    "from sklearn.linear_model import LinearRegression\n",
    "from sklearn.metrics import mean_squared_error\n",
    "\n",
    "from sklearn.ensemble import RandomForestRegressor\n",
    "from sklearn.ensemble import GradientBoostingRegressor\n",
    "from sklearn.model_selection import cross_val_score\n",
    "\n",
    "from sklearn.model_selection import GridSearchCV\n",
    "from sklearn.model_selection import RandomizedSearchCV\n",
    "\n",
    "\n",
    "from sklearn.preprocessing import StandardScaler\n",
    "from sklearn.preprocessing import MinMaxScaler\n",
    "from sklearn.preprocessing import RobustScaler\n",
    "\n",
    "import xgboost as xgb\n",
    "import lightgbm as lgb\n",
    "from catboost import CatBoostRegressor"
   ]
  },
  {
   "cell_type": "code",
   "execution_count": null,
   "id": "8333d4c1",
   "metadata": {},
   "outputs": [],
   "source": [
    "#scale\n",
    "\n",
    "def scaling_feat(df, to_scale, not_to_scale, scale=1):\n",
    "    \n",
    "    scalable = df[to_scale]\n",
    "    not_scalable = df[not_to_scale]\n",
    "\n",
    "    if scale == 2:\n",
    "        scaler = StandardScaler()\n",
    "    elif scale ==3:\n",
    "        scaler = RobustScaler()\n",
    "    else:\n",
    "        scaler = MinMaxScaler()\n",
    "\n",
    "    scaled = pd.DataFrame(scaler.fit_transform(scalable), columns=to_scale)\n",
    "    \n",
    "    return not_scalable.join(scaled)"
   ]
  },
  {
   "cell_type": "code",
   "execution_count": null,
   "id": "3aab2456",
   "metadata": {},
   "outputs": [],
   "source": [
    "def carat_to_bins(df, carat):\n",
    "    \n",
    "    df.loc[df[carat].between(0, .5, 'left'), 'bin'] = 1.0\n",
    "    df.loc[df[carat].between(.5, 1.0, 'left'), 'bin'] = 1.44\n",
    "    df.loc[df[carat].between(1.0, 1.5, 'left'), 'bin'] = 2.3\n",
    "    df.loc[df[carat].between(1.5, 2.0, 'left'), 'bin'] = 3.21\n",
    "    df.loc[df[carat].between(2.0, 3.0, 'left'), 'bin'] = 4.12\n",
    "    df.loc[df[carat].between(3.0, 4.0, 'left'), 'bin'] = 5.53\n",
    "    df.loc[df[carat].between(4.0, 10.0, 'left'), 'bin'] = 8.39\n",
    "    \n",
    "    return df"
   ]
  },
  {
   "cell_type": "code",
   "execution_count": null,
   "id": "d2ef9142",
   "metadata": {},
   "outputs": [],
   "source": [
    "pre_x_train = pd.read_csv('../data/diamonds_train.csv')\n",
    "pre_x_test = pd.read_csv('../data/diamonds_test.csv')\n",
    "pre_x_train.drop(columns=['Unnamed: 0'], inplace=True)\n",
    "pre_x_test.drop(columns=['id'], inplace=True)"
   ]
  },
  {
   "cell_type": "code",
   "execution_count": null,
   "id": "6a52b5d7",
   "metadata": {},
   "outputs": [],
   "source": [
    "#unify with test to scale features\n",
    "\n",
    "pre_x_train = pd.concat([pre_x_train, pre_x_test])\n",
    "pre_x_train.reset_index(inplace=True)\n",
    "pre_x_train.drop(columns=['index'], inplace=True)"
   ]
  },
  {
   "cell_type": "code",
   "execution_count": null,
   "id": "74373e91",
   "metadata": {},
   "outputs": [],
   "source": [
    "#columns bin for carat\n",
    "\n",
    "pre_x_train = carat_to_bins(pre_x_train, 'carat')"
   ]
  },
  {
   "cell_type": "code",
   "execution_count": null,
   "id": "15fb8403",
   "metadata": {},
   "outputs": [],
   "source": [
    "#top size\n",
    "pre_x_train['xy'] = pre_x_train['x']*pre_x_train['y']"
   ]
  },
  {
   "cell_type": "code",
   "execution_count": null,
   "id": "5906e8c0",
   "metadata": {},
   "outputs": [],
   "source": [
    "#scaling features\n",
    "\n",
    "feat_to_scale = ['carat', 'depth', 'table', 'x', 'y', 'z', 'bin', 'xy']\n",
    "others = ['cut', 'color', 'clarity', 'city', 'price']\n",
    "pre_x_scaled = scaling_feat(pre_x_train, feat_to_scale, others, scale = 2)"
   ]
  },
  {
   "cell_type": "code",
   "execution_count": null,
   "id": "f0d02336",
   "metadata": {},
   "outputs": [],
   "source": [
    "#drop test rows\n",
    "pre_x_scaled = pre_x_scaled[pre_x_scaled['price'].notna()]"
   ]
  },
  {
   "cell_type": "code",
   "execution_count": null,
   "id": "01fc1ff2",
   "metadata": {},
   "outputs": [],
   "source": [
    "#labeling cut, color, clarity\n",
    "\n",
    "clar_lab_std = pd.read_csv('../data/scales/clar_lab_std.csv')\n",
    "cut_lab_std = pd.read_csv('../data/scales/cut_lab_std.csv')\n",
    "col_lab_std = pd.read_csv('../data/scales/col_lab_std.csv')\n",
    "\n",
    "# clar_lab_rob = pd.read_csv('../data/scales/clar_lab_mm.csv')\n",
    "# cut_lab_rob = pd.read_csv('../data/scales/cut_lab_mm.csv')\n",
    "# col_lab_rob = pd.read_csv('../data/scales/col_lab_mm.csv')\n",
    "\n",
    "clar_lab_std.drop(columns=['Unnamed: 0'], inplace=True)\n",
    "cut_lab_std.drop(columns=['Unnamed: 0'], inplace=True)\n",
    "col_lab_std.drop(columns=['Unnamed: 0'], inplace=True)\n",
    "\n",
    "# clar_lab_rob.drop(columns=['Unnamed: 0'], inplace=True)\n",
    "# cut_lab_rob.drop(columns=['Unnamed: 0'], inplace=True)\n",
    "# col_lab_rob.drop(columns=['Unnamed: 0'], inplace=True)"
   ]
  },
  {
   "cell_type": "code",
   "execution_count": null,
   "id": "102542e7",
   "metadata": {},
   "outputs": [],
   "source": [
    "pre_x_scaled2 = pre_x_scaled\n",
    "\n",
    "cut2 = [cut_lab_std[cut_lab_std['cut'] == c]['label'].iloc[0] for c in pre_x_scaled2['cut']]\n",
    "color2 = [col_lab_std[col_lab_std['color'] == c]['label'].iloc[0] for c in pre_x_scaled2['color']]\n",
    "clarity2 = [clar_lab_std[clar_lab_std['clarity'] == c]['label'].iloc[0] for c in pre_x_scaled2['clarity']]\n",
    "\n",
    "pre_x_scaled2['cut2'] = cut2\n",
    "pre_x_scaled2['color2'] = color2\n",
    "pre_x_scaled2['clar2'] = clarity2"
   ]
  },
  {
   "cell_type": "code",
   "execution_count": null,
   "id": "df35f183",
   "metadata": {},
   "outputs": [],
   "source": [
    "pre_x_scaled2"
   ]
  },
  {
   "cell_type": "code",
   "execution_count": null,
   "id": "864cc627",
   "metadata": {},
   "outputs": [],
   "source": [
    "pre_x_scaled2.drop(columns=['cut', 'color', 'clarity'], inplace=True)"
   ]
  },
  {
   "cell_type": "code",
   "execution_count": null,
   "id": "80eabcb2",
   "metadata": {},
   "outputs": [],
   "source": [
    "#droping city column\n",
    "pre_x_scaled2 = pre_x_scaled2.drop(columns='city')"
   ]
  },
  {
   "cell_type": "code",
   "execution_count": null,
   "id": "0430085f",
   "metadata": {},
   "outputs": [],
   "source": [
    "pre_x_scaled2"
   ]
  },
  {
   "cell_type": "code",
   "execution_count": null,
   "id": "542ebe07",
   "metadata": {},
   "outputs": [],
   "source": [
    "pre_x_scaled2.columns"
   ]
  },
  {
   "cell_type": "code",
   "execution_count": null,
   "id": "47ea0e67",
   "metadata": {},
   "outputs": [],
   "source": [
    "feat = ['carat', 'bin', 'depth', 'table', 'clar2', 'cut2', 'color2']\n",
    "# feat = ['price', 'carat', 'depth', 'table', 'x', 'y', 'z', 'bin', 'clar2', 'cut2', 'color2']\n",
    "\n",
    "target = ['price']"
   ]
  },
  {
   "cell_type": "code",
   "execution_count": null,
   "id": "a508341b",
   "metadata": {},
   "outputs": [],
   "source": [
    "X, y = pre_x_scaled2[feat], pre_x_scaled2[target]"
   ]
  },
  {
   "cell_type": "code",
   "execution_count": null,
   "id": "2b96daf5",
   "metadata": {},
   "outputs": [],
   "source": [
    "X_train, X_test, y_train, y_test = train_test_split(X, y, test_size=0.2, random_state=42)"
   ]
  },
  {
   "cell_type": "code",
   "execution_count": null,
   "id": "471c8476",
   "metadata": {},
   "outputs": [],
   "source": [
    "%%time\n",
    "# XGBoost regression\n",
    "\n",
    "regressor=xgb.XGBRegressor(eval_metric='rmsle')\n",
    "regressor.fit(X_train, y_train)\n",
    "prediction = regressor.predict(X_test)\n",
    "\n",
    "rmse = mean_squared_error(y_test, prediction)**0.5\n",
    "\n",
    "print(type(regressor), '\\n')\n",
    "print(rmse, '\\n')"
   ]
  },
  {
   "cell_type": "code",
   "execution_count": null,
   "id": "cb02458f",
   "metadata": {},
   "outputs": [],
   "source": [
    "%%time\n",
    "\n",
    "param_grid = {\"max_depth\":    [6, 8, 16],\n",
    "              \"n_estimators\": [512, 700, 900],\n",
    "              \"learning_rate\": [0.01, 0.015]}\n",
    "\n",
    "search = GridSearchCV(regressor, param_grid, cv=5).fit(X_train, y_train)\n",
    "print(\"The best hyperparameters are \",search.best_params_)"
   ]
  },
  {
   "cell_type": "code",
   "execution_count": null,
   "id": "0e75a0ed",
   "metadata": {},
   "outputs": [],
   "source": [
    "%%time\n",
    "\n",
    "regressor=xgb.XGBRegressor(learning_rate = 0.01,\n",
    "                           n_estimators  = 900,\n",
    "                           max_depth     = 6,\n",
    "                           eval_metric='rmsle')\n",
    "\n",
    "regressor.fit(X_train, y_train)\n",
    "\n",
    "prediction = regressor.predict(X_test)\n",
    "\n",
    "rmse = mean_squared_error(y_test, prediction)**0.5\n",
    "\n",
    "print(type(regressor), '\\n')\n",
    "print(rmse, '\\n')"
   ]
  },
  {
   "cell_type": "code",
   "execution_count": null,
   "id": "c96a2e3d",
   "metadata": {},
   "outputs": [],
   "source": [
    "%%time\n",
    "\n",
    "#train with whole X\n",
    "\n",
    "regressor=xgb.XGBRegressor(learning_rate = 0.01,\n",
    "                           n_estimators  = 900,\n",
    "                           max_depth     = 6,\n",
    "                           eval_metric='rmsle')\n",
    "\n",
    "\n",
    "\n",
    "regressor.fit(X, y)"
   ]
  },
  {
   "cell_type": "code",
   "execution_count": null,
   "id": "dded2ad5",
   "metadata": {},
   "outputs": [],
   "source": [
    "## RandomForest regression\n",
    "model_rmse = RandomForestRegressor(n_estimators= 512, max_depth= 16,  random_state = 42)\n",
    "\n",
    "model_rmse.fit(X, y)"
   ]
  },
  {
   "cell_type": "code",
   "execution_count": null,
   "id": "3ce4201b",
   "metadata": {},
   "outputs": [],
   "source": [
    "## lightgbm regression\n",
    "\n",
    "params = {\n",
    "    'task': 'train', \n",
    "    'boosting': 'gbdt',\n",
    "    'objective': 'regression',\n",
    "    'num_leaves': 10,\n",
    "    'learnnig_rage': 0.05,\n",
    "    'metric': {'l2','l1'},\n",
    "    'verbose': -1\n",
    "#     'task': 'train', \n",
    "#     'boosting': 'gbdt',\n",
    "#     'objective': 'regression',\n",
    "#     'num_leaves': 25,\n",
    "#     'max_depth' :10,\n",
    "#     'num_iterations': 500,\n",
    "#     'min_data_in_leaf':25,\n",
    "#     'metric': {'l2','l1'},\n",
    "#     'verbose': -1\n",
    "\n",
    "}\n",
    "\n",
    "\n",
    "lgb_train = lgb.Dataset(X, y)\n",
    "\n",
    "model_lightgbm = lgb.train(params,\n",
    "                 train_set=lgb_train)"
   ]
  },
  {
   "cell_type": "code",
   "execution_count": null,
   "id": "beed6c16",
   "metadata": {},
   "outputs": [],
   "source": [
    "%%time\n",
    "\n",
    "## lightgbm regression\n",
    "\n",
    "params = {\n",
    "    'task': 'train', \n",
    "    'boosting': 'gbdt',\n",
    "    'objective': 'regression',\n",
    "    'num_leaves': 15,\n",
    "    'learnnig_rage': 0.05,\n",
    "    'metric': {'l2','l1'},\n",
    "    'verbose': -1\n",
    "#         'task': 'train', \n",
    "#     'boosting': 'gbdt',\n",
    "#     'objective': 'regression',\n",
    "#     'num_leaves': 25,\n",
    "#     'max_depth' :10,\n",
    "#     'num_iterations': 500,\n",
    "#     'min_data_in_leaf':25,\n",
    "#     'metric': {'l2','l1'},\n",
    "#     'verbose': -1\n",
    "}\n",
    "\n",
    "\n",
    "lgb_train = lgb.Dataset(X_train, y_train)\n",
    "lgb_eval = lgb.Dataset(X_test, y_test, reference=lgb_train)\n",
    "\n",
    "model_lightgbm = lgb.train(params,\n",
    "                 train_set=lgb_train,\n",
    "                 valid_sets=lgb_eval,\n",
    "                 early_stopping_rounds=30)\n",
    "\n",
    "\n",
    "prediction = model_lightgbm.predict(X_test)\n",
    "\n",
    "rmse = mean_squared_error(y_test, prediction)**0.5\n",
    "\n",
    "print(rmse, '\\n')"
   ]
  },
  {
   "cell_type": "code",
   "execution_count": null,
   "id": "6e62a0d7",
   "metadata": {},
   "outputs": [],
   "source": [
    "%%time\n",
    "# grid search  hyperparameter tuning\n",
    "params = {\n",
    "    'task': 'train', \n",
    "    'boosting': 'gbdt',\n",
    "    'objective': 'regression',\n",
    "    'num_leaves': 25,\n",
    "    'max_depth' :10,\n",
    "    'num_iterations': 500,\n",
    "    'min_data_in_leaf':25,\n",
    "    'metric': {'l2','l1'},\n",
    "    'verbose': -1\n",
    "}\n",
    "\n",
    "\n",
    "lgb_train = lgb.Dataset(X_train, y_train)\n",
    "lgb_eval = lgb.Dataset(X_test, y_test, reference=lgb_train)\n",
    "\n",
    "model_lightgbm = lgb.train(params,\n",
    "                 train_set=lgb_train,\n",
    "                 valid_sets=lgb_eval,\n",
    "                 early_stopping_rounds=30)\n",
    "\n",
    "\n",
    "prediction = model_lightgbm.predict(X_test)\n",
    "\n",
    "rmse = mean_squared_error(y_test, prediction)**0.5\n",
    "\n",
    "print(rmse, '\\n')"
   ]
  },
  {
   "cell_type": "markdown",
   "id": "9cff430a",
   "metadata": {},
   "source": [
    "## Preparing TEST DF"
   ]
  },
  {
   "cell_type": "code",
   "execution_count": null,
   "id": "e10efdd0",
   "metadata": {},
   "outputs": [],
   "source": [
    "#preparing test df\n",
    "\n",
    "to_predict = pre_x_test = pd.read_csv('../data/diamonds_test.csv')\n",
    "to_predict.drop(columns=['id'], inplace=True)\n",
    "\n",
    "\n",
    "#carat to bins\n",
    "to_predict = carat_to_bins(to_predict, 'carat')\n",
    "\n",
    "#scaling columns\n",
    "feat_to_scale = ['carat', 'depth', 'table', 'x', 'y', 'z', 'bin']\n",
    "others = ['cut', 'color', 'clarity', 'city']\n",
    "to_predict_s = scaling_feat(to_predict, feat_to_scale, others)"
   ]
  },
  {
   "cell_type": "code",
   "execution_count": null,
   "id": "1f047e87",
   "metadata": {},
   "outputs": [],
   "source": [
    "#labeling cut, color, clarity\n",
    "\n",
    "cut2 = [cut_lab_std[cut_lab_std['cut'] == c]['label'].iloc[0] for c in to_predict_s['cut']]\n",
    "color2 = [col_lab_std[col_lab_std['color'] == c]['label'].iloc[0] for c in to_predict_s['color']]\n",
    "clarity2 = [clar_lab_std[clar_lab_std['clarity'] == c]['label'].iloc[0] for c in to_predict_s['clarity']]\n",
    "\n",
    "to_predict_s['cut2'] = cut2\n",
    "to_predict_s['color2'] = color2\n",
    "to_predict_s['clar2'] = clarity2\n",
    "\n",
    "to_predict_s.drop(columns=['cut', 'color', 'clarity'], inplace=True)"
   ]
  },
  {
   "cell_type": "code",
   "execution_count": null,
   "id": "8dd61455",
   "metadata": {},
   "outputs": [],
   "source": [
    "#drop city column\n",
    "to_predict_s.drop(columns=['city'], inplace=True)"
   ]
  },
  {
   "cell_type": "code",
   "execution_count": null,
   "id": "b42e3ae6",
   "metadata": {},
   "outputs": [],
   "source": [
    "to_predict_s.columns"
   ]
  },
  {
   "cell_type": "code",
   "execution_count": null,
   "id": "8d57ec6b",
   "metadata": {},
   "outputs": [],
   "source": [
    "to_predict_X = to_predict_s[feat]"
   ]
  },
  {
   "cell_type": "code",
   "execution_count": null,
   "id": "bee780d8",
   "metadata": {},
   "outputs": [],
   "source": [
    "#predictions\n",
    "final_prediction = regressor.predict(to_predict_X)\n",
    "\n",
    "#lightgbm predictions\n",
    "light_pred = model_lightgbm.predict(to_predict_X)\n",
    "\n",
    "# #catboost predictions\n",
    "# cat_pred = model_cat.predict(to_predict_X)\n",
    "\n",
    "#RandonForest predictions\n",
    "rforest_pred = model_rmse.predict(to_predict_X)"
   ]
  },
  {
   "cell_type": "code",
   "execution_count": null,
   "id": "89a109e6",
   "metadata": {},
   "outputs": [],
   "source": [
    "prices = pd.DataFrame(light_pred, columns=['Price'])\n",
    "prices.reset_index(inplace=True)\n",
    "prices.rename(columns={\"index\": \"id\"}, inplace=True)\n",
    "prices = prices.set_index('id')\n",
    "prices.to_csv('../data/prices_009.csv')\n",
    "\n",
    "prices"
   ]
  },
  {
   "cell_type": "code",
   "execution_count": null,
   "id": "99aa9c59",
   "metadata": {},
   "outputs": [],
   "source": []
  },
  {
   "cell_type": "code",
   "execution_count": null,
   "id": "45fe05ad",
   "metadata": {},
   "outputs": [],
   "source": []
  },
  {
   "cell_type": "code",
   "execution_count": null,
   "id": "33c2965e",
   "metadata": {},
   "outputs": [],
   "source": []
  },
  {
   "cell_type": "code",
   "execution_count": null,
   "id": "90d3effa",
   "metadata": {},
   "outputs": [],
   "source": [
    "def classify_diamond_shape(x, y, z, table, depth):\n",
    "    # Calculate ratios\n",
    "    length_to_width_ratio = x / y\n",
    "    length_to_depth_ratio = x / z\n",
    "\n",
    "    # Define shape classification ranges\n",
    "    shape_ranges = {\n",
    "        'Round Brilliant': {\n",
    "            'length_to_width_ratio': (0.95, 1.05),\n",
    "            'length_to_depth_ratio': (1.35, 1.65),\n",
    "            'table_percentage': (52, 62),\n",
    "            'depth_percentage': (59, 62)\n",
    "        },\n",
    "        'Princess': {\n",
    "            'length_to_width_ratio': (0.90, 1.10),\n",
    "            'length_to_depth_ratio': (0.90, 1.10),\n",
    "            'table_percentage': (60, 80),\n",
    "            'depth_percentage': (58, 77)\n",
    "        },\n",
    "        'Emerald': {\n",
    "            'length_to_width_ratio': (1.20, 1.60),\n",
    "            'length_to_depth_ratio': (1.30, 1.60),\n",
    "            'table_percentage': (60, 69),\n",
    "            'depth_percentage': (60, 75)\n",
    "        },\n",
    "        'Asscher': {\n",
    "            'length_to_width_ratio': (1.00, 1.05),\n",
    "            'length_to_depth_ratio': (1.00, 1.05),\n",
    "            'table_percentage': (60, 68),\n",
    "            'depth_percentage': (60, 75)\n",
    "        },\n",
    "        'Radiant': {\n",
    "            'length_to_width_ratio': (1.00, 1.30),\n",
    "            'length_to_depth_ratio': (1.00, 1.30),\n",
    "            'table_percentage': (60, 69),\n",
    "            'depth_percentage': (60, 75)\n",
    "        },\n",
    "        'Pear': {\n",
    "            'length_to_width_ratio': (1.40, 2.00),\n",
    "            'length_to_depth_ratio': (1.30, 1.70),\n",
    "            'table_percentage': (53, 63),\n",
    "            'depth_percentage': (58, 66)\n",
    "        },\n",
    "        'Marquise': {\n",
    "            'length_to_width_ratio': (1.60, 2.10),\n",
    "            'length_to_depth_ratio': (1.30, 2.20),\n",
    "            'table_percentage': (53, 63),\n",
    "            'depth_percentage': (58, 66)\n",
    "        },\n",
    "        'Oval': {\n",
    "            'length_to_width_ratio': (1.20, 1.70),\n",
    "            'length_to_depth_ratio': (1.30, 1.70),\n",
    "            'table_percentage': (53, 63),\n",
    "            'depth_percentage': (58, 66)\n",
    "        },\n",
    "        'Heart': {\n",
    "            'length_to_width_ratio': (0.90, 1.10),\n",
    "            'length_to_depth_ratio': (0.90, 1.10),\n",
    "            'table_percentage': (53, 63),\n",
    "            'depth_percentage': (58, 66)\n",
    "        },\n",
    "        'Cushion': {\n",
    "            'length_to_width_ratio': (1.00, 1.10),\n",
    "            'length_to_depth_ratio': (1.00, 1.10),\n",
    "            'table_percentage': (53, 63),\n",
    "            'depth_percentage': (58, 66)\n",
    "        }\n",
    "    }\n",
    "\n",
    "    # Classify the diamond shape\n",
    "    for shape, ranges in shape_ranges.items():\n",
    "        if (ranges['length_to_width_ratio'][0] <= length_to_width_ratio <= ranges['length_to_width_ratio'][1] and\n",
    "                ranges['length_to_depth_ratio'][0] <= length_to_depth_ratio <= ranges['length_to_depth_ratio'][1] and\n",
    "                ranges['table_percentage'][0] <= table <= ranges['table_percentage'][1] and\n",
    "                ranges['depth_percentage'][0] <= depth <= ranges['depth_percentage'][1]):\n",
    "            return shape\n",
    "\n",
    "    return 'Unknown'  # If no shape match is found\n",
    "\n",
    "# Example usage\n",
    "x = 6.1\n",
    "y = 6.1\n",
    "z = 3.7\n",
    "table = 58\n",
    "depth = 61\n",
    "\n",
    "diamond_shape = classify_diamond_shape(x, y, z, table, depth)\n",
    "print(\"The diamond shape is:\", diamond_shape)\n"
   ]
  },
  {
   "cell_type": "code",
   "execution_count": null,
   "id": "d88a730d",
   "metadata": {},
   "outputs": [],
   "source": [
    "len(pre_x_train)"
   ]
  },
  {
   "cell_type": "code",
   "execution_count": null,
   "id": "78985c53",
   "metadata": {},
   "outputs": [],
   "source": [
    "shapes = []\n",
    "\n",
    "for i in range(len(pre_x_train)):\n",
    "    x = pre_x_train['x'].iloc[i]\n",
    "    y = pre_x_train['y'].iloc[i]\n",
    "    z = pre_x_train['z'].iloc[i]\n",
    "    t = pre_x_train['table'].iloc[i]\n",
    "    d = pre_x_train['depth'].iloc[i]\n",
    "\n",
    "    shapes.append(classify_diamond_shape(x, y, z, t, d))\n",
    "    \n",
    "shapes"
   ]
  },
  {
   "cell_type": "code",
   "execution_count": null,
   "id": "69bc7b2a",
   "metadata": {},
   "outputs": [],
   "source": [
    "pre_x_train"
   ]
  },
  {
   "cell_type": "code",
   "execution_count": null,
   "id": "3e9f9793",
   "metadata": {},
   "outputs": [],
   "source": [
    "xy = 6.83/6.79\n",
    "xz = 6.83/4.25\n",
    "# xy\n",
    "xz"
   ]
  }
 ],
 "metadata": {
  "kernelspec": {
   "display_name": "Python [conda env:sklearn_env]",
   "language": "python",
   "name": "conda-env-sklearn_env-py"
  },
  "language_info": {
   "codemirror_mode": {
    "name": "ipython",
    "version": 3
   },
   "file_extension": ".py",
   "mimetype": "text/x-python",
   "name": "python",
   "nbconvert_exporter": "python",
   "pygments_lexer": "ipython3",
   "version": "3.11.3"
  }
 },
 "nbformat": 4,
 "nbformat_minor": 5
}
